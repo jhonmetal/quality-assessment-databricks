{
 "cells": [
  {
   "cell_type": "markdown",
   "id": "0e3adb07",
   "metadata": {},
   "source": [
    "# Databricks User Group Assessment\n",
    "\n",
    "This notebook checks whether specified user groups exist in Databricks Unity Catalog using PySpark.\n",
    "\n",
    "**Author**: Jhonathan Pauca Joya  \n",
    "**Role**: MLOPS Engineer  \n",
    "**University**: Universidad Nacional Mayor de San Marcos  \n",
    "**Program**: Master's  \n",
    "**Last Updated**: August 2025  \n",
    "**Version**: 1.0  \n",
    "\n",
    "## Overview\n",
    "\n",
    "- **Goal**: Verify that all required user groups are provisioned in Unity Catalog.\n",
    "- **Input**: List of expected group names (provided via widget).\n",
    "- **Output**: Report of missing groups, if any.\n",
    "\n",
    "## Instructions\n",
    "\n",
    "1. Set the expected group names using the widget below (comma-separated).\n",
    "2. Run the assessment cell to check group existence.\n",
    "3. Review the output for missing groups."
   ]
  },
  {
   "cell_type": "code",
   "execution_count": null,
   "id": "e225cbef",
   "metadata": {
    "vscode": {
     "languageId": "plaintext"
    }
   },
   "outputs": [],
   "source": [
    "# Databricks User Group Assessment: Group Existence Check\n",
    "\"\"\"\n",
    "This cell uses Databricks widgets to accept a list of expected group names,\n",
    "checks their existence in Unity Catalog, and reports any missing groups.\n",
    "\"\"\"\n",
    "\n",
    "# 1. Import required libraries\n",
    "from pyspark.sql.utils import AnalysisException\n",
    "\n",
    "# 2. Define Databricks widget for expected groups (comma-separated)\n",
    "dbutils.widgets.text(\"expected_groups\", \"users,admins,user2\", \"Expected Groups (comma-separated)\")\n",
    "expected_groups = dbutils.widgets.get(\"expected_groups\")\n",
    "expected = set(g.strip() for g in expected_groups.split(\",\") if g.strip())\n",
    "\n",
    "# 3. Read groups from Unity Catalog\n",
    "groups_df = spark.sql(\"SHOW GROUPS\")\n",
    "existing = {row.name for row in groups_df.collect()}\n",
    "\n",
    "# 4. Detect missing groups\n",
    "missing = expected - existing\n",
    "present = expected & existing\n",
    "\n",
    "# 5. Report results\n",
    "if missing:\n",
    "    print(\"❌ The following groups are NOT present in Unity Catalog:\")\n",
    "    for g in sorted(missing):\n",
    "        print(f\" - {g}\")\n",
    "    print(f\"{len(missing)} group(s) missing. Please provision them before proceeding.\")\n",
    "    print(\"\\n✅ The following expected groups DO exist in Unity Catalog:\")\n",
    "    for g in sorted(present):\n",
    "        print(f\" - {g}\")\n",
    "else:\n",
    "    print(\"✅ All expected groups exist. You may proceed with grants.\")"
   ]
  }
 ],
 "metadata": {
  "language_info": {
   "name": "python"
  }
 },
 "nbformat": 4,
 "nbformat_minor": 5
}
